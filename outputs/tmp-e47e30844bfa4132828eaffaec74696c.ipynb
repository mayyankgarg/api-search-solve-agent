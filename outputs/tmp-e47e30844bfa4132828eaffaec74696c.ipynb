{
    "cells": [
        {
            "cell_type": "code",
            "execution_count": null,
            "metadata": {},
            "outputs": [
                {
                    "name": "stdout",
                    "output_type": "stream",
                    "text": [
                        "\n[{'name': 'README.md',\n  'path': 'README.md',\n  'sha': '67c18be45fc46d07b469090d851b6e0c4338ae51',\n  'size': 4322,\n  'url': 'https://api.github.com/repos/shroominic/codeinterpreter-api/contents/README.md?ref=main',\n  'html_url': 'https://github.com/shroominic/codeinterpreter-api/blob/main/README.md',\n  'git_url': 'https://api.github.com/repos/shroominic/codeinterpreter-api/git/blobs/67c18be45fc46d07b469090d851b6e0c4338ae51',\n  'download_url': 'https://raw.githubusercontent.com/shroominic/codeinterpreter-api/main/README.md',\n  'type': 'file',\n  '_links': {'self': 'https://api.github.com/repos/shroominic/codeinterpreter-api/contents/README.md?ref=main',\n   'git': 'https://api.github.com/repos/shroominic/codeinterpreter-api/git/blobs/67c18be45fc46d07b469090d851b6e0c4338ae51',\n   'html': 'https://github.com/shroominic/codeinterpreter-api/blob/main/README.md'}}]"
                    ]
                }
            ],
            "source": [
                "import requests",
                "",
                "# GitHub repository details",
                "owner = 'shroominic'",
                "repo = 'codeinterpreter-api'",
                "",
                "# Function to get repository contents",
                "def get_repo_contents(owner, repo):",
                "    url = f'https://api.github.com/repos/{owner}/{repo}/contents/'",
                "    response = requests.get(url)",
                "    return response.json()",
                "",
                "# Fetch the contents of the repository",
                "contents = get_repo_contents(owner, repo)",
                "",
                "# Filter for markdown files",
                "markdown_files = [item for item in contents if item['name'].endswith('.md')]",
                "markdown_files"
            ]
        },
        {
            "cell_type": "code",
            "execution_count": null,
            "metadata": {},
            "outputs": [
                {
                    "name": "stdout",
                    "output_type": "stream",
                    "text": [
                        "'# \ud83d\udc7e Code Interpreter API\\n\\n[![Version](https://badge.fury.io/py/codeinterpreterapi.svg)](https://badge.fury.io/py/codeinterpreterapi)\\n![Downloads](https://img.shields.io/pypi/dm/codeinterpreterapi)\\n![License](https://img.shields.io/pypi/l/codeinterpreterapi)\\n![PyVersion](https://img.shields.io/pypi/pyversions/codeinterpreterapi)\\n\\nA [LangChain](https://github.com/langchain-ai/langchain) implementation of the ChatGPT Code Interpreter.\\nUsing CodeBoxes as backend for sandboxed python code execution.\\n[CodeBox](https://github.com/shroominic/codebox-api/tree/main) is the simplest cloud infrastructure for your LLM Apps.\\nYou can run everything local except the LLM using your own OpenAI API Key.\\n\\n## Features\\n\\n- Dataset Analysis, Stock Charting, Image Manipulation, ....\\n- Internet access and auto Python package installation\\n- Input `text + files` -> Receive `text + files`\\n- Conversation Memory: respond based on previous inputs\\n- Run everything local except the OpenAI API (OpenOrca or others maybe soon)\\n- Use CodeBox API for easy scaling in production\\n\\n## Docs\\n\\nCheckout the [documentation](https://shroominic.github.io/codeinterpreter-api/) for more information.\\n\\n## Installation\\n\\nGet your OpenAI API Key [here](https://platform.openai.com/account/api-keys) and install the package.\\n\\n```bash\\npip install \"codeinterpreterapi[all]\"\\n```\\n\\nEverything for local experiments are installed with the `all` extra.\\nFor deployments, you can use `pip install codeinterpreterapi` instead which does not install the additional dependencies.\\n\\n## Usage\\n\\nTo configure OpenAI and Azure OpenAI, ensure that you set the appropriate environment variables (or use a .env file):\\n\\nFor OpenAI, set the OPENAI_API_KEY environment variable:\\n\\n```bash\\nexport OPENAI_API_KEY=sk-**********\\n```\\n\\n```python\\nfrom codeinterpreterapi import CodeInterpreterSession, settings\\n\\n\\n# create a session and close it automatically\\nwith CodeInterpreterSession() as session:\\n    # generate a response based on user input\\n    response = session.generate_response(\\n        \"Plot the bitcoin chart of year 2023\"\\n    )\\n    # output the response\\n    response.show()\\n```\\n\\n![Bitcoin YTD](https://github.com/shroominic/codeinterpreter-api/blob/main/examples/assets/bitcoin_chart.png?raw=true)\\nBitcoin YTD Chart Output\\n\\n## Dataset Analysis\\n\\n```python\\nfrom codeinterpreterapi import CodeInterpreterSession, File\\n\\n# this example uses async but normal sync like above works too\\nasync def main():\\n    # context manager for auto start/stop of the session\\n    async with CodeInterpreterSession() as session:\\n        # define the user request\\n        user_request = \"Analyze this dataset and plot something interesting about it.\"\\n        files = [\\n            # attach files to the request\\n            File.from_path(\"examples/assets/iris.csv\"),\\n        ]\\n\\n        # generate the response\\n        response = await session.generate_response(\\n            user_request, files=files\\n        )\\n\\n        # output to the user\\n        print(\"AI: \", response.content)\\n        for file in response.files:\\n            # iterate over the files (display if image)\\n            file.show_image()\\n\\n\\nif __name__ == \"__main__\":\\n    import asyncio\\n\\n    asyncio.run(main())\\n```\\n\\n![Iris Dataset Analysis](https://github.com/shroominic/codeinterpreter-api/blob/main/examples/assets/iris_analysis.png?raw=true)\\nIris Dataset Analysis Output\\n\\n## Production\\n\\nIn case you want to deploy to production, you can utilize the CodeBox API for seamless scalability.\\n\\nPlease contact me if you are interested in this, as it is still in the early stages of development.\\n\\n## Contributing\\n\\nThere are some remaining TODOs in the code.\\nSo, if you want to contribute, feel free to do so.\\nYou can also suggest new features. Code refactoring is also welcome.\\nJust open an issue or pull request and I will review it.\\n\\nPlease also submit any bugs you find as an issue with a minimal code example or screenshot.\\nThis helps me a lot in improving the code.\\n\\n## Contact\\n\\nYou can contact me at [contact@shroominic.com](mailto:contact@shroominic.com).\\nBut I prefer to use [Twitter](https://twitter.com/shroominic) or [Discord](https://discord.gg/Vaq25XJvvW) DMs.\\n\\n## Support this project\\n\\nIf you would like to help this project with a donation, you can [click here](https://ko-fi.com/shroominic).\\nThanks, this helps a lot! \u2764\ufe0f\\n'"
                    ]
                }
            ],
            "source": [
                "# Function to get the content of a markdown file",
                "def get_markdown_content(download_url):",
                "    response = requests.get(download_url)",
                "    return response.text",
                "",
                "# Download URL for the README.md file",
                "markdown_file_url = 'https://raw.githubusercontent.com/shroominic/codeinterpreter-api/main/README.md'",
                "",
                "# Fetch the content of the markdown file",
                "markdown_content = get_markdown_content(markdown_file_url)",
                "markdown_content"
            ]
        },
        {
            "cell_type": "code",
            "execution_count": null,
            "metadata": {},
            "outputs": [
                {
                    "name": "stdout",
                    "output_type": "stream",
                    "text": [
                        "[]"
                    ]
                }
            ],
            "source": [
                "import re",
                "",
                "# Function to extract tables from markdown content",
                "def extract_tables(markdown_content):",
                "    # Regular expression to match markdown tables",
                "    table_regex = r'((?:\\|.*?\\|\\n)+)'  # Matches lines that look like tables",
                "    tables = re.findall(table_regex, markdown_content)",
                "    return tables",
                "",
                "# Extract tables from the markdown content",
                "extracted_tables = extract_tables(markdown_content)",
                "extracted_tables"
            ]
        }
    ],
    "metadata": {},
    "nbformat": 4,
    "nbformat_minor": 5
}