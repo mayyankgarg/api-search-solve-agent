{
    "cells": [
        {
            "cell_type": "code",
            "execution_count": null,
            "metadata": {},
            "outputs": [
                {
                    "name": "stdout",
                    "output_type": "stream",
                    "text": [
                        "\n['https://badge.fury.io/py/codeinterpreterapi.svg',\n 'https://img.shields.io/pypi/dm/codeinterpreterapi',\n 'https://img.shields.io/pypi/l/codeinterpreterapi',\n 'https://img.shields.io/pypi/pyversions/codeinterpreterapi',\n 'https://github.com/shroominic/codeinterpreter-api/blob/main/examples/assets/bitcoin_chart.png?raw=true',\n 'https://github.com/shroominic/codeinterpreter-api/blob/main/examples/assets/iris_analysis.png?raw=true']"
                    ]
                }
            ],
            "source": [
                "import requests",
                "import base64",
                "import re",
                "",
                "# Constants",
                "GITHUB_REPO = 'shroominic/codeinterpreter-api'",
                "GITHUB_API_URL = 'https://api.github.com/repos/'",
                "",
                "# Function to get repository contents",
                "",
                "def get_repo_contents(repo):",
                "    url = f'{GITHUB_API_URL}{repo}/contents/'",
                "    response = requests.get(url)",
                "    return response.json()",
                "",
                "# Function to get file content",
                "",
                "def get_file_content(repo, path):",
                "    url = f'{GITHUB_API_URL}{repo}/contents/{path}'",
                "    response = requests.get(url)",
                "    return response.json()",
                "",
                "# Function to extract images from markdown content",
                "",
                "def extract_images_from_markdown(content):",
                "    # Decode the base64 content",
                "    decoded_content = base64.b64decode(content).decode('utf-8')",
                "    # Regex to find image links",
                "    image_links = re.findall('!\\[.*?\\]\\((.*?)\\)', decoded_content)",
                "    return image_links",
                "",
                "# Main function to get images from markdown files",
                "",
                "def get_images_from_markdown_files(repo):",
                "    contents = get_repo_contents(repo)",
                "    images = []",
                "    for item in contents:",
                "        if item['type'] == 'file' and item['name'].endswith('.md'):",
                "            file_content = get_file_content(repo, item['path'])",
                "            images.extend(extract_images_from_markdown(file_content['content']))",
                "    return images",
                "",
                "# Get images from the specified repository",
                "images = get_images_from_markdown_files(GITHUB_REPO)",
                "images"
            ]
        }
    ],
    "metadata": {},
    "nbformat": 4,
    "nbformat_minor": 5
}